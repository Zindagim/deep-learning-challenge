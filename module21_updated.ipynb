{
 "cells": [
  {
   "cell_type": "code",
   "execution_count": null,
   "id": "721061c4-5a40-430e-8932-0b2e7418efcd",
   "metadata": {},
   "outputs": [],
   "source": [
    "# Import necessary libraries\n",
    "import pandas as pd\n",
    "import numpy as np\n",
    "from sklearn.model_selection import train_test_split\n",
    "from sklearn.preprocessing import StandardScaler\n",
    "import tensorflow as tf\n"
   ]
  },
  {
   "cell_type": "code",
   "execution_count": null,
   "id": "b4f91ae1-ef0f-4cda-a959-32084cdcfbdf",
   "metadata": {},
   "outputs": [],
   "source": [
    "# Load the data\n",
    "data_url = \"https://static.bc-edx.com/data/dl-1-2/m21/lms/starter/charity_data.csv\"\n",
    "df = pd.read_csv(data_url)\n"
   ]
  },
  {
   "cell_type": "code",
   "execution_count": null,
   "id": "aaec306b-9675-4b16-941c-38cb8b9bf44f",
   "metadata": {},
   "outputs": [],
   "source": [
    "# Preprocessing steps\n",
    "# Drop the non-beneficial columns 'EIN' and 'NAME'\n",
    "df = df.drop(columns=['EIN', 'NAME'])\n",
    "\n",
    "# Determine the number of unique values in each column\n",
    "unique_counts = df.nunique()\n",
    "print(\"Number of unique values in each column:\")\n",
    "print(unique_counts)\n",
    "\n",
    "# Look at APPLICATION_TYPE value counts for binning\n",
    "application_type_counts = df['APPLICATION_TYPE'].value_counts()\n",
    "print(\"APPLICATION_TYPE value counts:\")\n",
    "print(application_type_counts)\n",
    "\n",
    "# Choose a cutoff value\n",
    "cutoff_value = 500\n",
    "\n",
    "# Create a list of application types to be replaced with \"Other\"\n",
    "application_types_to_replace = application_type_counts[application_type_counts < cutoff_value].index.tolist()\n",
    "\n",
    "# Replace in dataframe\n",
    "for app in application_types_to_replace:\n",
    "    df['APPLICATION_TYPE'] = df['APPLICATION_TYPE'].replace(app, \"Other\")\n",
    "\n",
    "# Look at CLASSIFICATION value counts for binning\n",
    "classification_counts = df['CLASSIFICATION'].value_counts()\n",
    "\n",
    "# Choose a cutoff value\n",
    "cutoff_value = 100\n",
    "\n",
    "# Create a list of classifications to be replaced with \"Other\"\n",
    "classifications_to_replace = classification_counts[classification_counts < cutoff_value].index.tolist()\n",
    "\n",
    "# Replace in dataframe\n",
    "for cls in classifications_to_replace:\n",
    "    df['CLASSIFICATION'] = df['CLASSIFICATION'].replace(cls, \"Other\")\n",
    "\n",
    "# Convert categorical data to numeric with pd.get_dummies\n",
    "df_encoded = pd.get_dummies(df)\n"
   ]
  },
  {
   "cell_type": "code",
   "execution_count": null,
   "id": "06b54450-a9a9-4569-b2ba-79836ac343db",
   "metadata": {},
   "outputs": [],
   "source": [
    "# Split the data into features and target\n",
    "X = df_encoded.drop(columns=['IS_SUCCESSFUL'])\n",
    "y = df_encoded['IS_SUCCESSFUL']\n",
    "\n",
    "# Split the data into training and testing sets\n",
    "X_train, X_test, y_train, y_test = train_test_split(X, y, random_state=42, stratify=y)\n",
    "\n",
    "# Create a StandardScaler instance\n",
    "scaler = StandardScaler()\n",
    "\n",
    "# Fit the scaler to the features training dataset\n",
    "X_scaler = scaler.fit(X_train)\n",
    "\n",
    "# Scale the features training and testing sets\n",
    "X_train_scaled = X_scaler.transform(X_train)\n",
    "X_test_scaled = X_scaler.transform(X_test)\n"
   ]
  },
  {
   "cell_type": "code",
   "execution_count": null,
   "id": "6caf056e-10cf-4322-a178-049a363faa00",
   "metadata": {},
   "outputs": [],
   "source": [
    "# Create a new neural network model with optimizations\n",
    "number_input_features = len(X_train_scaled[0])\n",
    "hidden_nodes_layer1 =  100\n",
    "hidden_nodes_layer2 = 50\n",
    "hidden_nodes_layer3 = 20\n",
    "\n",
    "# Initialize the Sequential model\n",
    "nn_optimized = tf.keras.models.Sequential()\n",
    "\n",
    "# First hidden layer\n",
    "nn_optimized.add(tf.keras.layers.Dense(units=hidden_nodes_layer1, input_dim=number_input_features, activation='relu'))\n",
    "\n",
    "# Second hidden layer\n",
    "nn_optimized.add(tf.keras.layers.Dense(units=hidden_nodes_layer2, activation='relu'))\n",
    "\n",
    "# Third hidden layer\n",
    "nn_optimized.add(tf.keras.layers.Dense(units=hidden_nodes_layer3, activation='relu'))\n",
    "\n",
    "# Output layer\n",
    "nn_optimized.add(tf.keras.layers.Dense(units=1, activation='sigmoid'))\n",
    "\n",
    "# Check the structure of the model\n",
    "nn_optimized.summary()\n"
   ]
  },
  {
   "cell_type": "code",
   "execution_count": null,
   "id": "f9cd1101-710a-4bcc-ad47-2f566101a352",
   "metadata": {},
   "outputs": [],
   "source": [
    "# Compile the model with optimizations\n",
    "nn_optimized.compile(loss='binary_crossentropy', optimizer='adam', metrics=['accuracy'])\n",
    "\n",
    "# Train the model with optimizations\n",
    "fit_model_optimized = nn_optimized.fit(X_train_scaled, y_train, epochs=50)\n"
   ]
  },
  {
   "cell_type": "code",
   "execution_count": null,
   "id": "98a0ba0a-53d7-440d-9444-9aa55c77aa82",
   "metadata": {},
   "outputs": [],
   "source": [
    "# Evaluate the model with optimizations\n",
    "model_loss, model_accuracy = nn_optimized.evaluate(X_test_scaled, y_test, verbose=2)\n",
    "print(f\"Loss: {model_loss}, Accuracy: {model_accuracy}\")\n"
   ]
  },
  {
   "cell_type": "code",
   "execution_count": null,
   "id": "d3acfae3-0f74-4a4a-aba5-541b0860564d",
   "metadata": {},
   "outputs": [],
   "source": [
    "# Export the optimized model to HDF5 file\n",
    "nn_optimized.save(\"AlphabetSoupCharity_Optimization.h5\")\n"
   ]
  }
 ],
 "metadata": {
  "kernelspec": {
   "display_name": "Python 3 (ipykernel)",
   "language": "python",
   "name": "python3"
  },
  "language_info": {
   "codemirror_mode": {
    "name": "ipython",
    "version": 3
   },
   "file_extension": ".py",
   "mimetype": "text/x-python",
   "name": "python",
   "nbconvert_exporter": "python",
   "pygments_lexer": "ipython3",
   "version": "3.11.7"
  }
 },
 "nbformat": 4,
 "nbformat_minor": 5
}
